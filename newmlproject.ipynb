{
 "cells": [
  {
   "cell_type": "code",
   "execution_count": 2,
   "id": "0127baa7-936b-455a-86d1-817301bb2eb1",
   "metadata": {},
   "outputs": [],
   "source": [
    "import os\n",
    "import cv2\n",
    "import numpy as np\n",
    "from sklearn.model_selection import train_test_split\n",
    "\n",
    "org_path = '/Users/nidhi/Desktop/ml/signatures/full_org'\n",
    "forg_path = '/Users/nidhi/Desktop/ml/signatures/full_forg'\n",
    "img_size = (220, 155)\n",
    "\n",
    "def load_images(path, label):\n",
    "    images = []\n",
    "    for img_name in os.listdir(path):\n",
    "        img_path = os.path.join(path, img_name)\n",
    "        img = cv2.imread(img_path, cv2.IMREAD_GRAYSCALE)\n",
    "        if img is not None:\n",
    "            img = cv2.resize(img, img_size)\n",
    "            img = img / 255.0\n",
    "            images.append((img, label))\n",
    "    return images\n",
    "\n",
    "genuine_data = load_images(org_path, 1)\n",
    "forged_data = load_images(forg_path, 0)\n",
    "\n",
    "data = genuine_data + forged_data\n",
    "np.random.shuffle(data)\n",
    "\n",
    "X, y = zip(*data)\n",
    "X = np.array(X).reshape(-1, 220, 155, 1)\n",
    "y = np.array(y)\n",
    "\n",
    "# Train-test split\n",
    "X_train, X_test, y_train, y_test = train_test_split(X, y, test_size=0.2, random_state=42)"
   ]
  },
  {
   "cell_type": "code",
   "execution_count": 16,
   "id": "8a9222bf-33ad-4d9b-a796-27ebc6a30986",
   "metadata": {},
   "outputs": [],
   "source": [
    "from tensorflow.keras.preprocessing.image import ImageDataGenerator\n",
    "\n",
    "datagen = ImageDataGenerator(\n",
    "    rotation_range=20,\n",
    "    zoom_range=0.2,\n",
    "    width_shift_range=0.15,\n",
    "    height_shift_range=0.15,\n",
    "    shear_range=0.15,\n",
    "    horizontal_flip=False,  # Keep false unless it helps\n",
    "    fill_mode='nearest'\n",
    ")\n",
    "\n",
    "datagen.fit(X_train)"
   ]
  },
  {
   "cell_type": "code",
   "execution_count": 12,
   "id": "ef5b57e1-6617-4e8a-a14f-9e756b5bf611",
   "metadata": {},
   "outputs": [
    {
     "name": "stdout",
     "output_type": "stream",
     "text": [
      "SVM Classification Report:\n",
      "              precision    recall  f1-score   support\n",
      "\n",
      "           0       1.00      0.99      0.99       271\n",
      "           1       0.99      1.00      0.99       257\n",
      "\n",
      "    accuracy                           0.99       528\n",
      "   macro avg       0.99      0.99      0.99       528\n",
      "weighted avg       0.99      0.99      0.99       528\n",
      "\n"
     ]
    }
   ],
   "source": [
    "from sklearn.svm import SVC\n",
    "from sklearn.metrics import classification_report\n",
    "\n",
    "X_flat = X.reshape(len(X), -1)\n",
    "X_train_flat, X_test_flat, y_train_svm, y_test_svm = train_test_split(X_flat, y, test_size=0.2, random_state=42)\n",
    "\n",
    "svm = SVC(kernel='linear')\n",
    "svm.fit(X_train_flat, y_train_svm)\n",
    "pred_svm = svm.predict(X_test_flat)\n",
    "\n",
    "print(\"SVM Classification Report:\")\n",
    "print(classification_report(y_test_svm, pred_svm))"
   ]
  },
  {
   "cell_type": "code",
   "execution_count": 8,
   "id": "6032b422-918c-4268-afbb-9c0ce1705118",
   "metadata": {},
   "outputs": [
    {
     "name": "stdout",
     "output_type": "stream",
     "text": [
      "KNN Classification Report:\n",
      "              precision    recall  f1-score   support\n",
      "\n",
      "           0       1.00      0.70      0.83       271\n",
      "           1       0.76      1.00      0.87       257\n",
      "\n",
      "    accuracy                           0.85       528\n",
      "   macro avg       0.88      0.85      0.85       528\n",
      "weighted avg       0.88      0.85      0.85       528\n",
      "\n"
     ]
    }
   ],
   "source": [
    "from sklearn.neighbors import KNeighborsClassifier\n",
    "\n",
    "knn = KNeighborsClassifier(n_neighbors=3)\n",
    "knn.fit(X_train_flat, y_train_svm)\n",
    "pred_knn = knn.predict(X_test_flat)\n",
    "\n",
    "print(\"KNN Classification Report:\")\n",
    "print(classification_report(y_test_svm, pred_knn))"
   ]
  },
  {
   "cell_type": "code",
   "execution_count": 20,
   "id": "3b38cfea-1dbb-43e0-8430-4a52948fb3ab",
   "metadata": {},
   "outputs": [
    {
     "name": "stderr",
     "output_type": "stream",
     "text": [
      "/opt/anaconda3/lib/python3.12/site-packages/keras/src/layers/convolutional/base_conv.py:107: UserWarning: Do not pass an `input_shape`/`input_dim` argument to a layer. When using Sequential models, prefer using an `Input(shape)` object as the first layer in the model instead.\n",
      "  super().__init__(activity_regularizer=activity_regularizer, **kwargs)\n"
     ]
    },
    {
     "name": "stdout",
     "output_type": "stream",
     "text": [
      "Epoch 1/25\n"
     ]
    },
    {
     "name": "stderr",
     "output_type": "stream",
     "text": [
      "/opt/anaconda3/lib/python3.12/site-packages/keras/src/trainers/data_adapters/py_dataset_adapter.py:121: UserWarning: Your `PyDataset` class should call `super().__init__(**kwargs)` in its constructor. `**kwargs` can include `workers`, `use_multiprocessing`, `max_queue_size`. Do not pass these arguments to `fit()`, as they will be ignored.\n",
      "  self._warn_if_super_not_called()\n"
     ]
    },
    {
     "name": "stdout",
     "output_type": "stream",
     "text": [
      "\u001b[1m66/66\u001b[0m \u001b[32m━━━━━━━━━━━━━━━━━━━━\u001b[0m\u001b[37m\u001b[0m \u001b[1m55s\u001b[0m 810ms/step - accuracy: 0.9505 - loss: 1.2217 - val_accuracy: 0.5133 - val_loss: 29.2836\n",
      "Epoch 2/25\n",
      "\u001b[1m66/66\u001b[0m \u001b[32m━━━━━━━━━━━━━━━━━━━━\u001b[0m\u001b[37m\u001b[0m \u001b[1m52s\u001b[0m 781ms/step - accuracy: 0.9974 - loss: 0.0526 - val_accuracy: 0.4867 - val_loss: 25.3664\n",
      "Epoch 3/25\n",
      "\u001b[1m66/66\u001b[0m \u001b[32m━━━━━━━━━━━━━━━━━━━━\u001b[0m\u001b[37m\u001b[0m \u001b[1m56s\u001b[0m 850ms/step - accuracy: 0.9912 - loss: 0.3026 - val_accuracy: 0.4867 - val_loss: 109.5292\n",
      "Epoch 4/25\n",
      "\u001b[1m66/66\u001b[0m \u001b[32m━━━━━━━━━━━━━━━━━━━━\u001b[0m\u001b[37m\u001b[0m \u001b[1m50s\u001b[0m 760ms/step - accuracy: 0.9972 - loss: 0.2023 - val_accuracy: 0.9564 - val_loss: 0.1547\n",
      "Epoch 5/25\n",
      "\u001b[1m66/66\u001b[0m \u001b[32m━━━━━━━━━━━━━━━━━━━━\u001b[0m\u001b[37m\u001b[0m \u001b[1m48s\u001b[0m 729ms/step - accuracy: 0.9960 - loss: 0.0748 - val_accuracy: 0.9943 - val_loss: 0.0167\n",
      "Epoch 6/25\n",
      "\u001b[1m66/66\u001b[0m \u001b[32m━━━━━━━━━━━━━━━━━━━━\u001b[0m\u001b[37m\u001b[0m \u001b[1m48s\u001b[0m 722ms/step - accuracy: 0.9977 - loss: 0.0198 - val_accuracy: 0.4867 - val_loss: 44.5410\n",
      "Epoch 7/25\n",
      "\u001b[1m66/66\u001b[0m \u001b[32m━━━━━━━━━━━━━━━━━━━━\u001b[0m\u001b[37m\u001b[0m \u001b[1m48s\u001b[0m 727ms/step - accuracy: 0.9967 - loss: 0.1278 - val_accuracy: 0.5833 - val_loss: 20.1496\n",
      "Epoch 8/25\n",
      "\u001b[1m66/66\u001b[0m \u001b[32m━━━━━━━━━━━━━━━━━━━━\u001b[0m\u001b[37m\u001b[0m \u001b[1m54s\u001b[0m 817ms/step - accuracy: 0.9980 - loss: 0.0278 - val_accuracy: 0.9981 - val_loss: 0.0024\n",
      "Epoch 9/25\n",
      "\u001b[1m66/66\u001b[0m \u001b[32m━━━━━━━━━━━━━━━━━━━━\u001b[0m\u001b[37m\u001b[0m \u001b[1m57s\u001b[0m 869ms/step - accuracy: 0.9939 - loss: 0.0309 - val_accuracy: 1.0000 - val_loss: 9.0137e-13\n",
      "Epoch 10/25\n",
      "\u001b[1m66/66\u001b[0m \u001b[32m━━━━━━━━━━━━━━━━━━━━\u001b[0m\u001b[37m\u001b[0m \u001b[1m52s\u001b[0m 788ms/step - accuracy: 0.9931 - loss: 0.3001 - val_accuracy: 0.9091 - val_loss: 5.6956\n",
      "Epoch 11/25\n",
      "\u001b[1m66/66\u001b[0m \u001b[32m━━━━━━━━━━━━━━━━━━━━\u001b[0m\u001b[37m\u001b[0m \u001b[1m52s\u001b[0m 781ms/step - accuracy: 0.9967 - loss: 0.1006 - val_accuracy: 0.6269 - val_loss: 64.2306\n",
      "Epoch 12/25\n",
      "\u001b[1m66/66\u001b[0m \u001b[32m━━━━━━━━━━━━━━━━━━━━\u001b[0m\u001b[37m\u001b[0m \u001b[1m50s\u001b[0m 751ms/step - accuracy: 0.9943 - loss: 0.1150 - val_accuracy: 0.8277 - val_loss: 15.3584\n",
      "Epoch 13/25\n",
      "\u001b[1m66/66\u001b[0m \u001b[32m━━━━━━━━━━━━━━━━━━━━\u001b[0m\u001b[37m\u001b[0m \u001b[1m51s\u001b[0m 774ms/step - accuracy: 0.9988 - loss: 0.0085 - val_accuracy: 0.6420 - val_loss: 72.6891\n",
      "Epoch 14/25\n",
      "\u001b[1m66/66\u001b[0m \u001b[32m━━━━━━━━━━━━━━━━━━━━\u001b[0m\u001b[37m\u001b[0m \u001b[1m53s\u001b[0m 798ms/step - accuracy: 0.9969 - loss: 0.0322 - val_accuracy: 1.0000 - val_loss: 1.1309e-20\n",
      "Epoch 15/25\n",
      "\u001b[1m66/66\u001b[0m \u001b[32m━━━━━━━━━━━━━━━━━━━━\u001b[0m\u001b[37m\u001b[0m \u001b[1m52s\u001b[0m 793ms/step - accuracy: 0.9980 - loss: 0.0178 - val_accuracy: 0.4867 - val_loss: 949.1331\n",
      "Epoch 16/25\n",
      "\u001b[1m66/66\u001b[0m \u001b[32m━━━━━━━━━━━━━━━━━━━━\u001b[0m\u001b[37m\u001b[0m \u001b[1m53s\u001b[0m 794ms/step - accuracy: 0.9979 - loss: 0.2044 - val_accuracy: 0.5133 - val_loss: 243.9497\n",
      "Epoch 17/25\n",
      "\u001b[1m66/66\u001b[0m \u001b[32m━━━━━━━━━━━━━━━━━━━━\u001b[0m\u001b[37m\u001b[0m \u001b[1m53s\u001b[0m 797ms/step - accuracy: 0.9992 - loss: 0.0010 - val_accuracy: 1.0000 - val_loss: 1.1857e-20\n",
      "Epoch 18/25\n",
      "\u001b[1m66/66\u001b[0m \u001b[32m━━━━━━━━━━━━━━━━━━━━\u001b[0m\u001b[37m\u001b[0m \u001b[1m51s\u001b[0m 778ms/step - accuracy: 0.9913 - loss: 0.1508 - val_accuracy: 0.5152 - val_loss: 43.0366\n",
      "Epoch 19/25\n",
      "\u001b[1m66/66\u001b[0m \u001b[32m━━━━━━━━━━━━━━━━━━━━\u001b[0m\u001b[37m\u001b[0m \u001b[1m49s\u001b[0m 741ms/step - accuracy: 0.9982 - loss: 0.0035 - val_accuracy: 0.5208 - val_loss: 34.9529\n",
      "Epoch 20/25\n",
      "\u001b[1m66/66\u001b[0m \u001b[32m━━━━━━━━━━━━━━━━━━━━\u001b[0m\u001b[37m\u001b[0m \u001b[1m50s\u001b[0m 754ms/step - accuracy: 0.9985 - loss: 0.0216 - val_accuracy: 0.9735 - val_loss: 0.0600\n",
      "Epoch 21/25\n",
      "\u001b[1m66/66\u001b[0m \u001b[32m━━━━━━━━━━━━━━━━━━━━\u001b[0m\u001b[37m\u001b[0m \u001b[1m49s\u001b[0m 740ms/step - accuracy: 0.9985 - loss: 0.0043 - val_accuracy: 1.0000 - val_loss: 0.0014\n",
      "Epoch 22/25\n",
      "\u001b[1m66/66\u001b[0m \u001b[32m━━━━━━━━━━━━━━━━━━━━\u001b[0m\u001b[37m\u001b[0m \u001b[1m48s\u001b[0m 729ms/step - accuracy: 0.9990 - loss: 0.0041 - val_accuracy: 1.0000 - val_loss: 2.8782e-05\n",
      "Epoch 23/25\n",
      "\u001b[1m66/66\u001b[0m \u001b[32m━━━━━━━━━━━━━━━━━━━━\u001b[0m\u001b[37m\u001b[0m \u001b[1m46s\u001b[0m 700ms/step - accuracy: 0.9961 - loss: 0.0358 - val_accuracy: 0.9867 - val_loss: 0.0287\n",
      "Epoch 24/25\n",
      "\u001b[1m66/66\u001b[0m \u001b[32m━━━━━━━━━━━━━━━━━━━━\u001b[0m\u001b[37m\u001b[0m \u001b[1m46s\u001b[0m 699ms/step - accuracy: 0.9960 - loss: 0.0470 - val_accuracy: 0.8958 - val_loss: 4.2285\n",
      "Epoch 25/25\n",
      "\u001b[1m66/66\u001b[0m \u001b[32m━━━━━━━━━━━━━━━━━━━━\u001b[0m\u001b[37m\u001b[0m \u001b[1m46s\u001b[0m 703ms/step - accuracy: 0.9983 - loss: 0.0066 - val_accuracy: 0.9602 - val_loss: 0.3513\n"
     ]
    },
    {
     "data": {
      "image/png": "[encoded data removed]",
      "text/plain": [
       "<Figure size 640x480 with 1 Axes>"
      ]
     },
     "metadata": {},
     "output_type": "display_data"
    },
    {
     "name": "stdout",
     "output_type": "stream",
     "text": [
      "Epoch 1/25\n",
      "\u001b[1m66/66\u001b[0m \u001b[32m━━━━━━━━━━━━━━━━━━━━\u001b[0m\u001b[37m\u001b[0m \u001b[1m0s\u001b[0m 691ms/step - accuracy: 0.9986 - loss: 0.0037"
     ]
    },
    {
     "name": "stderr",
     "output_type": "stream",
     "text": [
      "WARNING:absl:You are saving your model as an HDF5 file via `model.save()` or `keras.saving.save_model(model)`. This file format is considered legacy. We recommend using instead the native Keras format, e.g. `model.save('my_model.keras')` or `keras.saving.save_model(model, 'my_model.keras')`. \n"
     ]
    },
    {
     "name": "stdout",
     "output_type": "stream",
     "text": [
      "\u001b[1m66/66\u001b[0m \u001b[32m━━━━━━━━━━━━━━━━━━━━\u001b[0m\u001b[37m\u001b[0m \u001b[1m48s\u001b[0m 725ms/step - accuracy: 0.9985 - loss: 0.0037 - val_accuracy: 0.9716 - val_loss: 0.0597\n",
      "Epoch 2/25\n",
      "\u001b[1m66/66\u001b[0m \u001b[32m━━━━━━━━━━━━━━━━━━━━\u001b[0m\u001b[37m\u001b[0m \u001b[1m49s\u001b[0m 744ms/step - accuracy: 0.9928 - loss: 0.0211 - val_accuracy: 0.7652 - val_loss: 5.2937\n",
      "Epoch 3/25\n",
      "\u001b[1m66/66\u001b[0m \u001b[32m━━━━━━━━━━━━━━━━━━━━\u001b[0m\u001b[37m\u001b[0m \u001b[1m0s\u001b[0m 718ms/step - accuracy: 0.9967 - loss: 0.0049"
     ]
    },
    {
     "name": "stderr",
     "output_type": "stream",
     "text": [
      "WARNING:absl:You are saving your model as an HDF5 file via `model.save()` or `keras.saving.save_model(model)`. This file format is considered legacy. We recommend using instead the native Keras format, e.g. `model.save('my_model.keras')` or `keras.saving.save_model(model, 'my_model.keras')`. \n"
     ]
    },
    {
     "name": "stdout",
     "output_type": "stream",
     "text": [
      "\u001b[1m66/66\u001b[0m \u001b[32m━━━━━━━━━━━━━━━━━━━━\u001b[0m\u001b[37m\u001b[0m \u001b[1m50s\u001b[0m 758ms/step - accuracy: 0.9967 - loss: 0.0049 - val_accuracy: 1.0000 - val_loss: 2.6533e-06\n",
      "Epoch 4/25\n",
      "\u001b[1m66/66\u001b[0m \u001b[32m━━━━━━━━━━━━━━━━━━━━\u001b[0m\u001b[37m\u001b[0m \u001b[1m50s\u001b[0m 753ms/step - accuracy: 0.9995 - loss: 0.0021 - val_accuracy: 0.4867 - val_loss: 247.7214\n",
      "Epoch 5/25\n",
      "\u001b[1m66/66\u001b[0m \u001b[32m━━━━━━━━━━━━━━━━━━━━\u001b[0m\u001b[37m\u001b[0m \u001b[1m52s\u001b[0m 785ms/step - accuracy: 0.9971 - loss: 0.0027 - val_accuracy: 0.4867 - val_loss: 232.5790\n",
      "Epoch 6/25\n",
      "\u001b[1m66/66\u001b[0m \u001b[32m━━━━━━━━━━━━━━━━━━━━\u001b[0m\u001b[37m\u001b[0m \u001b[1m52s\u001b[0m 789ms/step - accuracy: 0.9972 - loss: 0.0098 - val_accuracy: 0.5871 - val_loss: 281.0681\n",
      "Epoch 7/25\n",
      "\u001b[1m66/66\u001b[0m \u001b[32m━━━━━━━━━━━━━━━━━━━━\u001b[0m\u001b[37m\u001b[0m \u001b[1m51s\u001b[0m 767ms/step - accuracy: 0.9985 - loss: 0.0047 - val_accuracy: 0.8636 - val_loss: 22.4496\n",
      "Epoch 8/25\n",
      "\u001b[1m66/66\u001b[0m \u001b[32m━━━━━━━━━━━━━━━━━━━━\u001b[0m\u001b[37m\u001b[0m \u001b[1m53s\u001b[0m 804ms/step - accuracy: 0.9969 - loss: 0.0118 - val_accuracy: 0.8428 - val_loss: 48.0588\n",
      "Epoch 9/25\n",
      "\u001b[1m66/66\u001b[0m \u001b[32m━━━━━━━━━━━━━━━━━━━━\u001b[0m\u001b[37m\u001b[0m \u001b[1m50s\u001b[0m 752ms/step - accuracy: 0.9955 - loss: 0.0128 - val_accuracy: 0.9792 - val_loss: 0.3188\n",
      "Epoch 10/25\n",
      "\u001b[1m66/66\u001b[0m \u001b[32m━━━━━━━━━━━━━━━━━━━━\u001b[0m\u001b[37m\u001b[0m \u001b[1m50s\u001b[0m 754ms/step - accuracy: 0.9994 - loss: 0.0162 - val_accuracy: 0.4867 - val_loss: 68.4285\n",
      "Epoch 11/25\n",
      "\u001b[1m66/66\u001b[0m \u001b[32m━━━━━━━━━━━━━━━━━━━━\u001b[0m\u001b[37m\u001b[0m \u001b[1m52s\u001b[0m 791ms/step - accuracy: 0.9900 - loss: 0.0288 - val_accuracy: 1.0000 - val_loss: 4.0868e-09\n",
      "Epoch 12/25\n",
      "\u001b[1m66/66\u001b[0m \u001b[32m━━━━━━━━━━━━━━━━━━━━\u001b[0m\u001b[37m\u001b[0m \u001b[1m51s\u001b[0m 769ms/step - accuracy: 0.9976 - loss: 0.0110 - val_accuracy: 1.0000 - val_loss: 4.0401e-18\n",
      "Epoch 13/25\n",
      "\u001b[1m66/66\u001b[0m \u001b[32m━━━━━━━━━━━━━━━━━━━━\u001b[0m\u001b[37m\u001b[0m \u001b[1m59s\u001b[0m 898ms/step - accuracy: 0.9967 - loss: 0.0076 - val_accuracy: 0.9962 - val_loss: 0.1224\n",
      "Epoch 14/25\n",
      "\u001b[1m66/66\u001b[0m \u001b[32m━━━━━━━━━━━━━━━━━━━━\u001b[0m\u001b[37m\u001b[0m \u001b[1m60s\u001b[0m 906ms/step - accuracy: 0.9980 - loss: 0.0045 - val_accuracy: 0.9470 - val_loss: 2.7548\n",
      "Epoch 15/25\n",
      "\u001b[1m66/66\u001b[0m \u001b[32m━━━━━━━━━━━━━━━━━━━━\u001b[0m\u001b[37m\u001b[0m \u001b[1m56s\u001b[0m 849ms/step - accuracy: 0.9993 - loss: 0.0012 - val_accuracy: 0.9697 - val_loss: 0.2116\n",
      "Epoch 16/25\n",
      "\u001b[1m66/66\u001b[0m \u001b[32m━━━━━━━━━━━━━━━━━━━━\u001b[0m\u001b[37m\u001b[0m \u001b[1m62s\u001b[0m 933ms/step - accuracy: 0.9992 - loss: 0.0069 - val_accuracy: 0.8655 - val_loss: 28.3204\n",
      "Epoch 17/25\n",
      "\u001b[1m66/66\u001b[0m \u001b[32m━━━━━━━━━━━━━━━━━━━━\u001b[0m\u001b[37m\u001b[0m \u001b[1m54s\u001b[0m 805ms/step - accuracy: 0.9952 - loss: 0.0146 - val_accuracy: 1.0000 - val_loss: 0.0000e+00\n",
      "Epoch 18/25\n",
      "\u001b[1m66/66\u001b[0m \u001b[32m━━━━━━━━━━━━━━━━━━━━\u001b[0m\u001b[37m\u001b[0m \u001b[1m54s\u001b[0m 824ms/step - accuracy: 0.9928 - loss: 0.1463 - val_accuracy: 0.5133 - val_loss: 8075.7568\n",
      "Epoch 19/25\n",
      "\u001b[1m66/66\u001b[0m \u001b[32m━━━━━━━━━━━━━━━━━━━━\u001b[0m\u001b[37m\u001b[0m \u001b[1m55s\u001b[0m 836ms/step - accuracy: 0.9966 - loss: 0.0477 - val_accuracy: 0.5133 - val_loss: 1713.3903\n",
      "Epoch 20/25\n",
      "\u001b[1m66/66\u001b[0m \u001b[32m━━━━━━━━━━━━━━━━━━━━\u001b[0m\u001b[37m\u001b[0m \u001b[1m54s\u001b[0m 816ms/step - accuracy: 0.9992 - loss: 0.0136 - val_accuracy: 0.5133 - val_loss: 1118.1370\n",
      "Epoch 21/25\n",
      "\u001b[1m66/66\u001b[0m \u001b[32m━━━━━━━━━━━━━━━━━━━━\u001b[0m\u001b[37m\u001b[0m \u001b[1m54s\u001b[0m 820ms/step - accuracy: 0.9961 - loss: 0.1048 - val_accuracy: 0.8447 - val_loss: 23.5397\n",
      "Epoch 22/25\n",
      "\u001b[1m66/66\u001b[0m \u001b[32m━━━━━━━━━━━━━━━━━━━━\u001b[0m\u001b[37m\u001b[0m \u001b[1m53s\u001b[0m 810ms/step - accuracy: 0.9995 - loss: 0.0029 - val_accuracy: 0.9962 - val_loss: 0.0758\n",
      "Epoch 23/25\n",
      "\u001b[1m66/66\u001b[0m \u001b[32m━━━━━━━━━━━━━━━━━━━━\u001b[0m\u001b[37m\u001b[0m \u001b[1m52s\u001b[0m 787ms/step - accuracy: 0.9996 - loss: 0.0025 - val_accuracy: 0.9981 - val_loss: 0.0254\n",
      "Epoch 24/25\n",
      "\u001b[1m66/66\u001b[0m \u001b[32m━━━━━━━━━━━━━━━━━━━━\u001b[0m\u001b[37m\u001b[0m \u001b[1m54s\u001b[0m 818ms/step - accuracy: 0.9972 - loss: 0.0157 - val_accuracy: 1.0000 - val_loss: 8.5882e-04\n",
      "Epoch 25/25\n",
      "\u001b[1m66/66\u001b[0m \u001b[32m━━━━━━━━━━━━━━━━━━━━\u001b[0m\u001b[37m\u001b[0m \u001b[1m57s\u001b[0m 857ms/step - accuracy: 0.9953 - loss: 0.0321 - val_accuracy: 0.8163 - val_loss: 15.8667\n"
     ]
    }
   ],
   "source": [
    "from tensorflow.keras.models import Sequential\n",
    "from tensorflow.keras.layers import Conv2D, MaxPooling2D, Flatten, Dense, Dropout, BatchNormalization\n",
    "\n",
    "def build_cnn():\n",
    "    model = Sequential([\n",
    "        Conv2D(32, (3, 3), activation='relu', input_shape=(220, 155, 1)),\n",
    "        BatchNormalization(),\n",
    "        MaxPooling2D(2, 2),\n",
    "        \n",
    "        Conv2D(64, (3, 3), activation='relu'),\n",
    "        BatchNormalization(),\n",
    "        MaxPooling2D(2, 2),\n",
    "        \n",
    "        Conv2D(128, (3, 3), activation='relu'),\n",
    "        BatchNormalization(),\n",
    "        MaxPooling2D(2, 2),\n",
    "        \n",
    "        Flatten(),\n",
    "        Dense(256, activation='relu'),\n",
    "        Dropout(0.5),\n",
    "        Dense(1, activation='sigmoid')\n",
    "    ])\n",
    "    model.compile(optimizer='adam', loss='binary_crossentropy', metrics=['accuracy'])\n",
    "    return model\n",
    "\n",
    "cnn = build_cnn()\n",
    "history = cnn.fit(datagen.flow(X_train, y_train, batch_size=32), \n",
    "                  epochs=25, \n",
    "                  validation_data=(X_test, y_test))\n",
    "\n",
    "import matplotlib.pyplot as plt\n",
    "\n",
    "plt.plot(history.history['accuracy'], label='train_acc')\n",
    "plt.plot(history.history['val_accuracy'], label='val_acc')\n",
    "plt.title('CNN Accuracy')\n",
    "plt.xlabel('Epochs')\n",
    "plt.ylabel('Accuracy')\n",
    "plt.legend()\n",
    "plt.show()\n",
    "\n",
    "from tensorflow.keras.callbacks import ModelCheckpoint\n",
    "\n",
    "checkpoint = ModelCheckpoint(\"best_cnn_model.h5\", monitor='val_accuracy', save_best_only=True)\n",
    "cnn.fit(datagen.flow(X_train, y_train, batch_size=32),\n",
    "        validation_data=(X_test, y_test),\n",
    "        epochs=25,\n",
    "        callbacks=[checkpoint])\n",
    "\n",
    "def load_images(path, label):\n",
    "    images = []\n",
    "    for img_name in os.listdir(path):\n",
    "        img_path = os.path.join(path, img_name)\n",
    "        img = cv2.imread(img_path, cv2.IMREAD_GRAYSCALE)\n",
    "        if img is not None:\n",
    "            img = cv2.equalizeHist(img)\n",
    "            img = cv2.resize(img, img_size)\n",
    "            img = img / 255.0\n",
    "            images.append((img, label))\n",
    "    return images"
   ]
  },
  {
   "cell_type": "code",
   "execution_count": 22,
   "id": "e335ab32-19c7-4d31-a21d-286c118b5805",
   "metadata": {},
   "outputs": [
    {
     "name": "stdout",
     "output_type": "stream",
     "text": [
      "Aggregate Test Accuracy: 81.63%\n"
     ]
    }
   ],
   "source": [
    "loss, accuracy = cnn.evaluate(X_test, y_test, verbose=0)\n",
    "print(f\"Aggregate Test Accuracy: {accuracy * 100:.2f}%\")"
   ]
  },
  {
   "cell_type": "code",
   "execution_count": 24,
   "id": "82a206bb-6e4d-4f3c-9366-e0bf7ba6539f",
   "metadata": {},
   "outputs": [
    {
     "name": "stdout",
     "output_type": "stream",
     "text": [
      "\u001b[1m17/17\u001b[0m \u001b[32m━━━━━━━━━━━━━━━━━━━━\u001b[0m\u001b[37m\u001b[0m \u001b[1m2s\u001b[0m 114ms/step\n",
      "Classification Report:\n",
      "              precision    recall  f1-score   support\n",
      "\n",
      "           0       0.74      1.00      0.85       271\n",
      "           1       1.00      0.62      0.77       257\n",
      "\n",
      "    accuracy                           0.82       528\n",
      "   macro avg       0.87      0.81      0.81       528\n",
      "weighted avg       0.86      0.82      0.81       528\n",
      "\n",
      "Confusion Matrix:\n",
      "[[271   0]\n",
      " [ 97 160]]\n"
     ]
    }
   ],
   "source": [
    "from sklearn.metrics import classification_report, confusion_matrix\n",
    "import numpy as np\n",
    "\n",
    "# Get predictions\n",
    "y_pred_probs = cnn.predict(X_test)\n",
    "y_pred = (y_pred_probs > 0.5).astype(int)\n",
    "\n",
    "# Print classification metrics\n",
    "print(\"Classification Report:\")\n",
    "print(classification_report(y_test, y_pred))\n",
    "\n",
    "# Confusion Matrix\n",
    "cm = confusion_matrix(y_test, y_pred)\n",
    "print(\"Confusion Matrix:\")\n",
    "print(cm)"
   ]
  },
  {
   "cell_type": "code",
   "execution_count": null,
   "id": "be12e3d5-0c94-4dec-92ae-fee4eb03f1a3",
   "metadata": {},
   "outputs": [],
   "source": [
    "# doing the siamese network integration "
   ]
  },
  {
   "cell_type": "code",
   "execution_count": 26,
   "id": "5a415aa9-145d-4e71-9e20-ddf13e4407fa",
   "metadata": {},
   "outputs": [],
   "source": [
    "import os\n",
    "import cv2\n",
    "import random\n",
    "import numpy as np\n",
    "from tensorflow.keras.models import Model\n",
    "from tensorflow.keras.layers import Input, Conv2D, MaxPooling2D, Flatten, Dense, Lambda\n",
    "from tensorflow.keras import backend as K\n",
    "from tensorflow.keras.optimizers import Adam\n",
    "from sklearn.model_selection import train_test_split\n",
    "import tensorflow as tf"
   ]
  },
  {
   "cell_type": "code",
   "execution_count": 28,
   "id": "04d8b906-2c6b-4015-8345-1a82e782e870",
   "metadata": {},
   "outputs": [],
   "source": [
    "img_size = (220, 155)\n",
    "\n",
    "def load_images_from_folder(folder, label):\n",
    "    images = []\n",
    "    names = []\n",
    "    for filename in os.listdir(folder):\n",
    "        path = os.path.join(folder, filename)\n",
    "        img = cv2.imread(path, cv2.IMREAD_GRAYSCALE)\n",
    "        if img is not None:\n",
    "            img = cv2.resize(img, img_size)\n",
    "            img = img / 255.0\n",
    "            images.append(img)\n",
    "            names.append(filename.split('_')[0])  # person ID\n",
    "    return np.array(images), np.array(names)"
   ]
  },
  {
   "cell_type": "code",
   "execution_count": 30,
   "id": "c6662cb7-a690-4749-adba-2243fced7134",
   "metadata": {},
   "outputs": [],
   "source": [
    "def make_pairs(images, labels):\n",
    "    pair_images = []\n",
    "    pair_labels = []\n",
    "    label_to_indices = {}\n",
    "\n",
    "    for i, label in enumerate(labels):\n",
    "        label_to_indices.setdefault(label, []).append(i)\n",
    "\n",
    "    for idx1 in range(len(images)):\n",
    "        img1 = images[idx1]\n",
    "        label1 = labels[idx1]\n",
    "\n",
    "        # Positive pair\n",
    "        idx2 = random.choice(label_to_indices[label1])\n",
    "        img2 = images[idx2]\n",
    "        pair_images.append([img1, img2])\n",
    "        pair_labels.append(1)\n",
    "\n",
    "        # Negative pair\n",
    "        label2 = random.choice([l for l in label_to_indices if l != label1])\n",
    "        idx2 = random.choice(label_to_indices[label2])\n",
    "        img2 = images[idx2]\n",
    "        pair_images.append([img1, img2])\n",
    "        pair_labels.append(0)\n",
    "\n",
    "    return np.array(pair_images), np.array(pair_labels)"
   ]
  },
  {
   "cell_type": "code",
   "execution_count": 32,
   "id": "f773c10d-636e-4b86-9459-10a4681876b1",
   "metadata": {},
   "outputs": [],
   "source": [
    "def build_base_network(input_shape):\n",
    "    input = Input(shape=input_shape)\n",
    "    x = Conv2D(64, (3, 3), activation='relu')(input)\n",
    "    x = MaxPooling2D()(x)\n",
    "    x = Conv2D(128, (3, 3), activation='relu')(x)\n",
    "    x = MaxPooling2D()(x)\n",
    "    x = Flatten()(x)\n",
    "    x = Dense(128, activation='relu')(x)\n",
    "    return Model(input, x)"
   ]
  },
  {
   "cell_type": "code",
   "execution_count": 34,
   "id": "b0635e81-d444-4ed5-9f62-df8fc2bce3aa",
   "metadata": {},
   "outputs": [],
   "source": [
    "def euclidean_distance(vects):\n",
    "    x, y = vects\n",
    "    sum_square = K.sum(K.square(x - y), axis=1, keepdims=True)\n",
    "    return K.sqrt(K.maximum(sum_square, K.epsilon()))\n",
    "    # return K.abs(x - y)\n",
    "\n",
    "input_shape = (220, 155, 1)\n",
    "left_input = Input(shape=input_shape)\n",
    "right_input = Input(shape=input_shape)\n",
    "\n",
    "base_network = build_base_network(input_shape)\n",
    "\n",
    "encoded_l = base_network(left_input)\n",
    "encoded_r = base_network(right_input)\n",
    "\n",
    "merged_vector = Lambda(euclidean_distance)([encoded_l, encoded_r])\n",
    "output = Dense(1, activation='sigmoid')(merged_vector)\n",
    "\n",
    "siamese_model = Model(inputs=[left_input, right_input], outputs=output)\n",
    "siamese_model.compile(loss='binary_crossentropy', optimizer=Adam(0.001), metrics=['accuracy'])"
   ]
  },
  {
   "cell_type": "code",
   "execution_count": 36,
   "id": "b0373ff1-0acc-4ff9-b7c0-00e5bcca9557",
   "metadata": {},
   "outputs": [
    {
     "name": "stdout",
     "output_type": "stream",
     "text": [
      "Epoch 1/20\n",
      "\u001b[1m132/132\u001b[0m \u001b[32m━━━━━━━━━━━━━━━━━━━━\u001b[0m\u001b[37m\u001b[0m \u001b[1m313s\u001b[0m 2s/step - accuracy: 0.8142 - loss: 0.3484 - val_accuracy: 0.9527 - val_loss: 0.1222\n",
      "Epoch 2/20\n",
      "\u001b[1m132/132\u001b[0m \u001b[32m━━━━━━━━━━━━━━━━━━━━\u001b[0m\u001b[37m\u001b[0m \u001b[1m352s\u001b[0m 3s/step - accuracy: 0.9666 - loss: 0.0911 - val_accuracy: 0.9470 - val_loss: 0.1361\n",
      "Epoch 3/20\n",
      "\u001b[1m132/132\u001b[0m \u001b[32m━━━━━━━━━━━━━━━━━━━━\u001b[0m\u001b[37m\u001b[0m \u001b[1m333s\u001b[0m 3s/step - accuracy: 0.9900 - loss: 0.0334 - val_accuracy: 0.9744 - val_loss: 0.0696\n",
      "Epoch 4/20\n",
      "\u001b[1m132/132\u001b[0m \u001b[32m━━━━━━━━━━━━━━━━━━━━\u001b[0m\u001b[37m\u001b[0m \u001b[1m318s\u001b[0m 2s/step - accuracy: 0.9958 - loss: 0.0179 - val_accuracy: 0.9716 - val_loss: 0.0854\n",
      "Epoch 5/20\n",
      "\u001b[1m132/132\u001b[0m \u001b[32m━━━━━━━━━━━━━━━━━━━━\u001b[0m\u001b[37m\u001b[0m \u001b[1m306s\u001b[0m 2s/step - accuracy: 0.9955 - loss: 0.0171 - val_accuracy: 0.9612 - val_loss: 0.1372\n",
      "Epoch 6/20\n",
      "\u001b[1m132/132\u001b[0m \u001b[32m━━━━━━━━━━━━━━━━━━━━\u001b[0m\u001b[37m\u001b[0m \u001b[1m290s\u001b[0m 2s/step - accuracy: 0.9935 - loss: 0.0258 - val_accuracy: 0.9763 - val_loss: 0.0633\n",
      "Epoch 7/20\n",
      "\u001b[1m132/132\u001b[0m \u001b[32m━━━━━━━━━━━━━━━━━━━━\u001b[0m\u001b[37m\u001b[0m \u001b[1m270s\u001b[0m 2s/step - accuracy: 0.9988 - loss: 0.0063 - val_accuracy: 0.9830 - val_loss: 0.0591\n",
      "Epoch 8/20\n",
      "\u001b[1m132/132\u001b[0m \u001b[32m━━━━━━━━━━━━━━━━━━━━\u001b[0m\u001b[37m\u001b[0m \u001b[1m335s\u001b[0m 3s/step - accuracy: 1.0000 - loss: 7.1932e-04 - val_accuracy: 0.9811 - val_loss: 0.0657\n",
      "Epoch 9/20\n",
      "\u001b[1m132/132\u001b[0m \u001b[32m━━━━━━━━━━━━━━━━━━━━\u001b[0m\u001b[37m\u001b[0m \u001b[1m403s\u001b[0m 3s/step - accuracy: 1.0000 - loss: 3.4047e-04 - val_accuracy: 0.9820 - val_loss: 0.0640\n",
      "Epoch 10/20\n",
      "\u001b[1m132/132\u001b[0m \u001b[32m━━━━━━━━━━━━━━━━━━━━\u001b[0m\u001b[37m\u001b[0m \u001b[1m293s\u001b[0m 2s/step - accuracy: 1.0000 - loss: 5.2749e-04 - val_accuracy: 0.9820 - val_loss: 0.0634\n",
      "Epoch 11/20\n",
      "\u001b[1m132/132\u001b[0m \u001b[32m━━━━━━━━━━━━━━━━━━━━\u001b[0m\u001b[37m\u001b[0m \u001b[1m269s\u001b[0m 2s/step - accuracy: 1.0000 - loss: 2.3626e-04 - val_accuracy: 0.9820 - val_loss: 0.0652\n",
      "Epoch 12/20\n",
      "\u001b[1m132/132\u001b[0m \u001b[32m━━━━━━━━━━━━━━━━━━━━\u001b[0m\u001b[37m\u001b[0m \u001b[1m235s\u001b[0m 2s/step - accuracy: 1.0000 - loss: 1.5962e-04 - val_accuracy: 0.9801 - val_loss: 0.0662\n",
      "Epoch 13/20\n",
      "\u001b[1m132/132\u001b[0m \u001b[32m━━━━━━━━━━━━━━━━━━━━\u001b[0m\u001b[37m\u001b[0m \u001b[1m265s\u001b[0m 2s/step - accuracy: 1.0000 - loss: 1.7287e-04 - val_accuracy: 0.9820 - val_loss: 0.0674\n",
      "Epoch 14/20\n",
      "\u001b[1m132/132\u001b[0m \u001b[32m━━━━━━━━━━━━━━━━━━━━\u001b[0m\u001b[37m\u001b[0m \u001b[1m221s\u001b[0m 2s/step - accuracy: 1.0000 - loss: 1.8377e-04 - val_accuracy: 0.9811 - val_loss: 0.0681\n",
      "Epoch 15/20\n",
      "\u001b[1m132/132\u001b[0m \u001b[32m━━━━━━━━━━━━━━━━━━━━\u001b[0m\u001b[37m\u001b[0m \u001b[1m202s\u001b[0m 2s/step - accuracy: 1.0000 - loss: 9.0664e-05 - val_accuracy: 0.9811 - val_loss: 0.0692\n",
      "Epoch 16/20\n",
      "\u001b[1m132/132\u001b[0m \u001b[32m━━━━━━━━━━━━━━━━━━━━\u001b[0m\u001b[37m\u001b[0m \u001b[1m240s\u001b[0m 2s/step - accuracy: 1.0000 - loss: 8.1817e-05 - val_accuracy: 0.9811 - val_loss: 0.0697\n",
      "Epoch 17/20\n",
      "\u001b[1m132/132\u001b[0m \u001b[32m━━━━━━━━━━━━━━━━━━━━\u001b[0m\u001b[37m\u001b[0m \u001b[1m240s\u001b[0m 2s/step - accuracy: 1.0000 - loss: 1.3393e-04 - val_accuracy: 0.9811 - val_loss: 0.0702\n",
      "Epoch 18/20\n",
      "\u001b[1m132/132\u001b[0m \u001b[32m━━━━━━━━━━━━━━━━━━━━\u001b[0m\u001b[37m\u001b[0m \u001b[1m220s\u001b[0m 2s/step - accuracy: 1.0000 - loss: 5.5785e-04 - val_accuracy: 0.9811 - val_loss: 0.0708\n",
      "Epoch 19/20\n",
      "\u001b[1m132/132\u001b[0m \u001b[32m━━━━━━━━━━━━━━━━━━━━\u001b[0m\u001b[37m\u001b[0m \u001b[1m215s\u001b[0m 2s/step - accuracy: 1.0000 - loss: 1.1431e-04 - val_accuracy: 0.9820 - val_loss: 0.0713\n",
      "Epoch 20/20\n",
      "\u001b[1m132/132\u001b[0m \u001b[32m━━━━━━━━━━━━━━━━━━━━\u001b[0m\u001b[37m\u001b[0m \u001b[1m220s\u001b[0m 2s/step - accuracy: 1.0000 - loss: 8.4266e-05 - val_accuracy: 0.9820 - val_loss: 0.0717\n"
     ]
    },
    {
     "data": {
      "text/plain": [
       "<keras.src.callbacks.history.History at 0x15673e210>"
      ]
     },
     "execution_count": 36,
     "metadata": {},
     "output_type": "execute_result"
    }
   ],
   "source": [
    "# Load data\n",
    "org_images, org_labels = load_images_from_folder('/Users/nidhi/Desktop/ml/signatures/full_org', label=1)\n",
    "forg_images, forg_labels = load_images_from_folder('/Users/nidhi/Desktop/ml/signatures/full_forg', label=0)\n",
    "\n",
    "all_images = np.concatenate([org_images, forg_images])\n",
    "all_labels = np.concatenate([org_labels, forg_labels])\n",
    "\n",
    "# Create pairs\n",
    "pairs, pair_labels = make_pairs(all_images, all_labels)\n",
    "\n",
    "# Reshape for CNN\n",
    "pairs = pairs.reshape(-1, 2, 220, 155, 1)\n",
    "pair_1 = pairs[:, 0]\n",
    "pair_2 = pairs[:, 1]\n",
    "\n",
    "# Train-test split\n",
    "X1_train, X1_test, X2_train, X2_test, y_train, y_test = train_test_split(\n",
    "    pair_1, pair_2, pair_labels, test_size=0.2, random_state=42\n",
    ")\n",
    "\n",
    "# Train\n",
    "siamese_model.fit([X1_train, X2_train], y_train, validation_data=([X1_test, X2_test], y_test), epochs=20, batch_size=32)"
   ]
  },
  {
   "cell_type": "code",
   "execution_count": 38,
   "id": "b7a0bad1-1fca-4519-9372-20ac7d455493",
   "metadata": {},
   "outputs": [
    {
     "name": "stdout",
     "output_type": "stream",
     "text": [
      "\u001b[1m33/33\u001b[0m \u001b[32m━━━━━━━━━━━━━━━━━━━━\u001b[0m\u001b[37m\u001b[0m \u001b[1m11s\u001b[0m 342ms/step - accuracy: 0.9845 - loss: 0.0594\n",
      "Siamese Network Test Accuracy: 98.20%\n"
     ]
    }
   ],
   "source": [
    "loss, accuracy = siamese_model.evaluate([X1_test, X2_test], y_test)\n",
    "print(f\"Siamese Network Test Accuracy: {accuracy * 100:.2f}%\")"
   ]
  },
  {
   "cell_type": "code",
   "execution_count": 101,
   "id": "11ab4542-800b-4bb0-a338-5feb4dc9c11b",
   "metadata": {},
   "outputs": [],
   "source": [
    "import cv2\n",
    "import numpy as np\n",
    "\n",
    "def preprocess_signature(img_path, target_size=(155, 220)):\n",
    "    img = cv2.imread(img_path, cv2.IMREAD_GRAYSCALE)\n",
    "\n",
    "    # Binarize\n",
    "    _, img = cv2.threshold(img, 127, 255, cv2.THRESH_BINARY_INV)\n",
    "\n",
    "    # Find bounding box\n",
    "    coords = cv2.findNonZero(img)\n",
    "    x, y, w, h = cv2.boundingRect(coords)\n",
    "\n",
    "    # Crop tightly around signature\n",
    "    img_cropped = img[y:y+h, x:x+w]\n",
    "\n",
    "    # Resize with aspect ratio\n",
    "    h, w = img_cropped.shape\n",
    "    scale = min(target_size[0] / h, target_size[1] / w)\n",
    "    new_h, new_w = int(h * scale), int(w * scale)\n",
    "    img_resized = cv2.resize(img_cropped, (new_w, new_h))\n",
    "\n",
    "    # Padding\n",
    "    pad_top = (target_size[0] - new_h) // 2\n",
    "    pad_bottom = target_size[0] - new_h - pad_top\n",
    "    pad_left = (target_size[1] - new_w) // 2\n",
    "    pad_right = target_size[1] - new_w - pad_left\n",
    "\n",
    "    img_padded = cv2.copyMakeBorder(img_resized, pad_top, pad_bottom, pad_left, pad_right, cv2.BORDER_CONSTANT, value=0)\n",
    "\n",
    "    # Normalize\n",
    "    img_normalized = img_padded / 255.0\n",
    "    return img_normalized.reshape((target_size[0], target_size[1], 1))\n",
    "\n",
    "\n",
    "from skimage.metrics import structural_similarity as ssim\n",
    "\n",
    "def calculate_ssim(img1, img2):\n",
    "        # Convert from float32 [0,1] back to pixel range [0,255] if needed\n",
    "    score, _ = ssim(img1.squeeze(), img2.squeeze(), full=True, data_range=1.0)\n",
    "    print(f\"SSIM Score: {score:.4f}\")\n",
    "    # score, _ = ssim(img1.squeeze(), img2.squeeze(), full=True)\n",
    "    return score"
   ]
  },
  {
   "cell_type": "code",
   "execution_count": null,
   "id": "070a711d-6d8f-479f-a87e-e73a11c6f527",
   "metadata": {},
   "outputs": [],
   "source": []
  },
  {
   "cell_type": "code",
   "execution_count": null,
   "id": "d57eeb52-13be-4b33-b347-e93df88c46b5",
   "metadata": {},
   "outputs": [],
   "source": []
  },
  {
   "cell_type": "code",
   "execution_count": 103,
   "id": "8692317d-6cb2-4011-a1ed-616dba63f4f8",
   "metadata": {},
   "outputs": [],
   "source": [
    "# def verify_signature(reference_path, test_path, model, threshold=0.5):\n",
    "#     ref_img = preprocess_signature(reference_path)\n",
    "#     test_img = preprocess_signature(test_path)\n",
    "    \n",
    "#     prediction = model.predict([ref_img, test_img])[0][0]\n",
    "#     print(f\"Similarity Score: {prediction:.4f}\")\n",
    "    \n",
    "#     if prediction > threshold:\n",
    "#         print(\"✅ Genuine Signature\")\n",
    "#     else:\n",
    "#         print(\"❌ Forged Signature\")\n",
    "\n",
    "def is_genuine(img1, img2, model, threshold=0.5):\n",
    "    ssim_score = calculate_ssim(img1, img2)\n",
    "    \n",
    "    # If SSIM is very high, treat as genuine without using model\n",
    "    if ssim_score > 0.85:\n",
    "        print(\"High SSIM similarity. Likely Genuine.\")\n",
    "        return \"Genuine (based on SSIM)\"\n",
    "    \n",
    "    # Otherwise, use Siamese network prediction\n",
    "    prediction = model.predict([np.expand_dims(img1, axis=0), np.expand_dims(img2, axis=0)])\n",
    "    print(f\"Model Prediction Score: {prediction[0][0]:.4f}\")\n",
    "    \n",
    "    if prediction[0][0] > threshold:\n",
    "        return \"Genuine\"\n",
    "    else:\n",
    "        return \"Forged\""
   ]
  },
  {
   "cell_type": "code",
   "execution_count": 119,
   "id": "4755b09e-bdf8-463b-87f9-70622a140e55",
   "metadata": {},
   "outputs": [
    {
     "name": "stdout",
     "output_type": "stream",
     "text": [
      "SSIM Score: 0.7076\n",
      "\u001b[1m1/1\u001b[0m \u001b[32m━━━━━━━━━━━━━━━━━━━━\u001b[0m\u001b[37m\u001b[0m \u001b[1m0s\u001b[0m 63ms/step\n",
      "Model Prediction Score: 0.0003\n",
      "Forged\n"
     ]
    }
   ],
   "source": [
    "img1 = '/Users/nidhi/Desktop/ml/signatures/org.jpeg'\n",
    "img2 = '/Users/nidhi/Desktop/ml/signatures/forg.jpeg'\n",
    "\n",
    "\n",
    "img11 = preprocess_signature(img1)\n",
    "img22 = preprocess_signature(img2)\n",
    "\n",
    "result = is_genuine(img11, img22, siamese_model)\n",
    "print(result)"
   ]
  },
  {
   "cell_type": "code",
   "execution_count": null,
   "id": "fee5fc92-9121-4669-9adc-7a547b10f675",
   "metadata": {},
   "outputs": [],
   "source": []
  }
 ],
 "metadata": {
  "kernelspec": {
   "display_name": "Python 3 (ipykernel)",
   "language": "python",
   "name": "python3"
  },
  "language_info": {
   "codemirror_mode": {
    "name": "ipython",
    "version": 3
   },
   "file_extension": ".py",
   "mimetype": "text/x-python",
   "name": "python",
   "nbconvert_exporter": "python",
   "pygments_lexer": "ipython3",
   "version": "3.12.2"
  }
 },
 "nbformat": 4,
 "nbformat_minor": 5
}
